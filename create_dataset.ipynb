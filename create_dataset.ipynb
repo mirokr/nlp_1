{
 "cells": [
  {
   "cell_type": "code",
   "execution_count": 12,
   "source": [
    "import nltk as nl \r\n",
    "import pandas as pd"
   ],
   "outputs": [],
   "metadata": {}
  },
  {
   "cell_type": "code",
   "execution_count": 13,
   "source": [
    "from nltk.corpus import gutenberg"
   ],
   "outputs": [],
   "metadata": {}
  },
  {
   "cell_type": "code",
   "execution_count": 14,
   "source": [
    "nl.corpus.gutenberg.fileids()"
   ],
   "outputs": [
    {
     "output_type": "execute_result",
     "data": {
      "text/plain": [
       "['austen-emma.txt',\n",
       " 'austen-persuasion.txt',\n",
       " 'austen-sense.txt',\n",
       " 'bible-kjv.txt',\n",
       " 'blake-poems.txt',\n",
       " 'bryant-stories.txt',\n",
       " 'burgess-busterbrown.txt',\n",
       " 'carroll-alice.txt',\n",
       " 'chesterton-ball.txt',\n",
       " 'chesterton-brown.txt',\n",
       " 'chesterton-thursday.txt',\n",
       " 'edgeworth-parents.txt',\n",
       " 'melville-moby_dick.txt',\n",
       " 'milton-paradise.txt',\n",
       " 'shakespeare-caesar.txt',\n",
       " 'shakespeare-hamlet.txt',\n",
       " 'shakespeare-macbeth.txt',\n",
       " 'whitman-leaves.txt']"
      ]
     },
     "metadata": {},
     "execution_count": 14
    }
   ],
   "metadata": {}
  },
  {
   "cell_type": "code",
   "execution_count": 15,
   "source": [
    "#import text\r\n",
    "alice= nl.corpus.gutenberg.words( 'melville-moby_dick.txt')\r\n"
   ],
   "outputs": [],
   "metadata": {}
  },
  {
   "cell_type": "markdown",
   "source": [],
   "metadata": {}
  },
  {
   "cell_type": "code",
   "execution_count": 16,
   "source": [
    "#create list of words from text\r\n",
    "alice_list=[]\r\n",
    "for i in alice:\r\n",
    "    alice_list.append(i)"
   ],
   "outputs": [],
   "metadata": {}
  },
  {
   "cell_type": "code",
   "execution_count": 17,
   "source": [
    "print(alice_list[1000])\r\n"
   ],
   "outputs": [
    {
     "output_type": "stream",
     "name": "stdout",
     "text": [
      "said\n"
     ]
    }
   ],
   "metadata": {}
  },
  {
   "cell_type": "code",
   "execution_count": 18,
   "source": [
    "#divide list into messages\r\n",
    "counter = 0\r\n",
    "string = ' '\r\n",
    "string_list = []\r\n",
    "for i in range(len(alice_list)-1):\r\n",
    "    counter+=1\r\n",
    "    if counter%70 != 0 :\r\n",
    "        string +=alice_list[i] + ' '\r\n",
    "    else: \r\n",
    "        string_list.append(string)\r\n",
    "        string = ' '\r\n",
    "        counter=0\r\n",
    "    "
   ],
   "outputs": [],
   "metadata": {}
  },
  {
   "cell_type": "code",
   "execution_count": 19,
   "source": [
    "#reduce size to 2000 messages\r\n",
    "string_list1 = []\r\n",
    "for i in range(1000,3000):\r\n",
    "    string_list1.append(string_list[i])\r\n",
    "\r\n",
    "string_list = string_list1\r\n"
   ],
   "outputs": [],
   "metadata": {}
  },
  {
   "cell_type": "code",
   "execution_count": 20,
   "source": [
    "#inject distress phrases into 50% messages\r\n",
    "trigger_list1 =[' ',' SOS Fire position 2-5 ',' '\r\n",
    ",'  Help position -6-6 ',' ',' Mayday Mayday Collision position 43 ',' '\r\n",
    ",' SOS Fire ',' ',' Help ',' ',' Mayday Mayday ',' ',' Sinking ',' ',' Abandon ship '\r\n",
    ",' ',' Grounding ',' ',' Explosion ', ' ',' Danger capsizing ',' ',' Disabled adrift ', ' '\r\n",
    ",' Flooding ']\r\n",
    "y = []\r\n",
    "z = []\r\n",
    "counter = 0\r\n",
    "\r\n",
    "for i in range(len(string_list)):   \r\n",
    "    if counter<len(trigger_list1) :\r\n",
    "        x=int(len(string_list[i])/2) \r\n",
    "        string_list[i] = string_list[i][:x] + trigger_list1[counter] + string_list[i][x:]\r\n",
    "        if trigger_list1[counter]==' ':\r\n",
    "            y.append('chatter')\r\n",
    "            z.append(0)\r\n",
    "        else:\r\n",
    "            y.append('distress')\r\n",
    "            z.append(1)\r\n",
    "\r\n",
    "        counter+=1\r\n",
    "    else:\r\n",
    "        counter = 0\r\n",
    "        string_list[i] = string_list[i][:x] + trigger_list1[counter] + string_list[i][x:]\r\n",
    "        if trigger_list1[counter]==' ':\r\n",
    "            y.append('chatter')\r\n",
    "            z.append(0)\r\n",
    "        else:\r\n",
    "            y.append('distress')\r\n",
    "            z.append(1)\r\n",
    "        \r\n",
    "        counter+=1\r\n",
    "\r\n",
    "        \r\n",
    "\r\n",
    "\r\n",
    "    \r\n"
   ],
   "outputs": [],
   "metadata": {}
  },
  {
   "cell_type": "code",
   "execution_count": 21,
   "source": [
    "#create CSV file\r\n",
    "import csv\r\n",
    "with open('data_set4.csv', 'w') as file:\r\n",
    "    csvw = csv.writer(file)\r\n",
    "    csvw.writerow(['Message', 'Type','isDistress'])\r\n",
    "    for i in range(len(string_list)):\r\n",
    "        csvw.writerow([string_list[i], y[i], z[i]])\r\n",
    "    \r\n",
    "    "
   ],
   "outputs": [],
   "metadata": {}
  },
  {
   "cell_type": "code",
   "execution_count": 23,
   "source": [
    "\r\n",
    "df1 = pd.read_csv('data_set4.csv')\r\n",
    "df1.head()"
   ],
   "outputs": [
    {
     "output_type": "execute_result",
     "data": {
      "text/plain": [
       "                                             Message      Type  isDistress\n",
       "0   making use of them for other and more private...   chatter           0\n",
       "1   other men , without the aid of some sort of e...  distress           1\n",
       "2   infinite inferiority to the choice hidden han...   chatter           0\n",
       "3   geographical empire encircles an imperial bra...  distress           1\n",
       "4   Nantucket grimness and shagginess ; and in th...   chatter           0"
      ],
      "text/html": [
       "<div>\n",
       "<style scoped>\n",
       "    .dataframe tbody tr th:only-of-type {\n",
       "        vertical-align: middle;\n",
       "    }\n",
       "\n",
       "    .dataframe tbody tr th {\n",
       "        vertical-align: top;\n",
       "    }\n",
       "\n",
       "    .dataframe thead th {\n",
       "        text-align: right;\n",
       "    }\n",
       "</style>\n",
       "<table border=\"1\" class=\"dataframe\">\n",
       "  <thead>\n",
       "    <tr style=\"text-align: right;\">\n",
       "      <th></th>\n",
       "      <th>Message</th>\n",
       "      <th>Type</th>\n",
       "      <th>isDistress</th>\n",
       "    </tr>\n",
       "  </thead>\n",
       "  <tbody>\n",
       "    <tr>\n",
       "      <th>0</th>\n",
       "      <td>making use of them for other and more private...</td>\n",
       "      <td>chatter</td>\n",
       "      <td>0</td>\n",
       "    </tr>\n",
       "    <tr>\n",
       "      <th>1</th>\n",
       "      <td>other men , without the aid of some sort of e...</td>\n",
       "      <td>distress</td>\n",
       "      <td>1</td>\n",
       "    </tr>\n",
       "    <tr>\n",
       "      <th>2</th>\n",
       "      <td>infinite inferiority to the choice hidden han...</td>\n",
       "      <td>chatter</td>\n",
       "      <td>0</td>\n",
       "    </tr>\n",
       "    <tr>\n",
       "      <th>3</th>\n",
       "      <td>geographical empire encircles an imperial bra...</td>\n",
       "      <td>distress</td>\n",
       "      <td>1</td>\n",
       "    </tr>\n",
       "    <tr>\n",
       "      <th>4</th>\n",
       "      <td>Nantucket grimness and shagginess ; and in th...</td>\n",
       "      <td>chatter</td>\n",
       "      <td>0</td>\n",
       "    </tr>\n",
       "  </tbody>\n",
       "</table>\n",
       "</div>"
      ]
     },
     "metadata": {},
     "execution_count": 23
    }
   ],
   "metadata": {}
  }
 ],
 "metadata": {
  "orig_nbformat": 4,
  "language_info": {
   "name": "python",
   "version": "3.8.8",
   "mimetype": "text/x-python",
   "codemirror_mode": {
    "name": "ipython",
    "version": 3
   },
   "pygments_lexer": "ipython3",
   "nbconvert_exporter": "python",
   "file_extension": ".py"
  },
  "kernelspec": {
   "name": "python3",
   "display_name": "Python 3.8.8 64-bit ('base': conda)"
  },
  "interpreter": {
   "hash": "ba8eff0f4464d83793294359e448dc687798df61176a979a49280af425402487"
  }
 },
 "nbformat": 4,
 "nbformat_minor": 2
}