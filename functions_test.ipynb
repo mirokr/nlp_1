{
 "cells": [
  {
   "cell_type": "code",
   "execution_count": 1,
   "source": [
    "import pandas as pd\r\n",
    "df = pd.read_csv('data_set4.csv')\r\n",
    "df.head()"
   ],
   "outputs": [
    {
     "output_type": "execute_result",
     "data": {
      "text/plain": [
       "                                             Message      Type  isDistress\n",
       "0   making use of them for other and more private...   chatter           0\n",
       "1   other men , without the aid of some sort of e...  distress           1\n",
       "2   infinite inferiority to the choice hidden han...   chatter           0\n",
       "3   geographical empire encircles an imperial bra...  distress           1\n",
       "4   Nantucket grimness and shagginess ; and in th...   chatter           0"
      ],
      "text/html": [
       "<div>\n",
       "<style scoped>\n",
       "    .dataframe tbody tr th:only-of-type {\n",
       "        vertical-align: middle;\n",
       "    }\n",
       "\n",
       "    .dataframe tbody tr th {\n",
       "        vertical-align: top;\n",
       "    }\n",
       "\n",
       "    .dataframe thead th {\n",
       "        text-align: right;\n",
       "    }\n",
       "</style>\n",
       "<table border=\"1\" class=\"dataframe\">\n",
       "  <thead>\n",
       "    <tr style=\"text-align: right;\">\n",
       "      <th></th>\n",
       "      <th>Message</th>\n",
       "      <th>Type</th>\n",
       "      <th>isDistress</th>\n",
       "    </tr>\n",
       "  </thead>\n",
       "  <tbody>\n",
       "    <tr>\n",
       "      <th>0</th>\n",
       "      <td>making use of them for other and more private...</td>\n",
       "      <td>chatter</td>\n",
       "      <td>0</td>\n",
       "    </tr>\n",
       "    <tr>\n",
       "      <th>1</th>\n",
       "      <td>other men , without the aid of some sort of e...</td>\n",
       "      <td>distress</td>\n",
       "      <td>1</td>\n",
       "    </tr>\n",
       "    <tr>\n",
       "      <th>2</th>\n",
       "      <td>infinite inferiority to the choice hidden han...</td>\n",
       "      <td>chatter</td>\n",
       "      <td>0</td>\n",
       "    </tr>\n",
       "    <tr>\n",
       "      <th>3</th>\n",
       "      <td>geographical empire encircles an imperial bra...</td>\n",
       "      <td>distress</td>\n",
       "      <td>1</td>\n",
       "    </tr>\n",
       "    <tr>\n",
       "      <th>4</th>\n",
       "      <td>Nantucket grimness and shagginess ; and in th...</td>\n",
       "      <td>chatter</td>\n",
       "      <td>0</td>\n",
       "    </tr>\n",
       "  </tbody>\n",
       "</table>\n",
       "</div>"
      ]
     },
     "metadata": {},
     "execution_count": 1
    }
   ],
   "metadata": {}
  },
  {
   "cell_type": "code",
   "execution_count": 2,
   "source": [
    "from sklearn.model_selection import train_test_split"
   ],
   "outputs": [],
   "metadata": {}
  },
  {
   "cell_type": "code",
   "execution_count": 3,
   "source": [
    "x = df['Message']\r\n",
    "y = df['Type']\r\n",
    "X_train, X_test, y_train, y_test = train_test_split(x, y, random_state = 0,shuffle=True)"
   ],
   "outputs": [],
   "metadata": {}
  },
  {
   "cell_type": "code",
   "execution_count": 4,
   "source": [
    "from sklearn.feature_extraction.text import  TfidfVectorizer\r\n",
    "from sklearn.model_selection import train_test_split, GridSearchCV\r\n",
    "from sklearn.pipeline import Pipeline\r\n",
    "from sklearn.naive_bayes import MultinomialNB"
   ],
   "outputs": [],
   "metadata": {}
  },
  {
   "cell_type": "code",
   "execution_count": 5,
   "source": [
    "pipe = Pipeline(steps = [('tfid', TfidfVectorizer()), ('munb', MultinomialNB())])"
   ],
   "outputs": [],
   "metadata": {}
  },
  {
   "cell_type": "code",
   "execution_count": 6,
   "source": [
    "grid = {\r\n",
    " 'tfid__max_features' : [1000, 2000, 3000],\r\n",
    " 'tfid__stop_words' : ['english', None],\r\n",
    " 'tfid__ngram_range' : [(1,1),(1,2),(1,3)],\r\n",
    " 'tfid__use_idf' : [True, False],\r\n",
    " 'munb__alpha' : [0.1, 0.5, 1]\r\n",
    "}"
   ],
   "outputs": [],
   "metadata": {}
  },
  {
   "cell_type": "code",
   "execution_count": 7,
   "source": [
    "grid_run = GridSearchCV(pipe,grid,cv=5,n_jobs=-1)\r\n",
    "grid_run.fit(X_train, y_train)"
   ],
   "outputs": [
    {
     "output_type": "execute_result",
     "data": {
      "text/plain": [
       "GridSearchCV(cv=5,\n",
       "             estimator=Pipeline(steps=[('tfid', TfidfVectorizer()),\n",
       "                                       ('munb', MultinomialNB())]),\n",
       "             n_jobs=-1,\n",
       "             param_grid={'munb__alpha': [0.1, 0.5, 1],\n",
       "                         'tfid__max_features': [1000, 2000, 3000],\n",
       "                         'tfid__ngram_range': [(1, 1), (1, 2), (1, 3)],\n",
       "                         'tfid__stop_words': ['english', None],\n",
       "                         'tfid__use_idf': [True, False]})"
      ]
     },
     "metadata": {},
     "execution_count": 7
    }
   ],
   "metadata": {}
  },
  {
   "cell_type": "code",
   "execution_count": 8,
   "source": [
    "grid_run.score(X_train, y_train)\r\n",
    "print(grid_run.score(X_test, y_test))"
   ],
   "outputs": [
    {
     "output_type": "stream",
     "name": "stdout",
     "text": [
      "0.876\n"
     ]
    }
   ],
   "metadata": {}
  },
  {
   "cell_type": "code",
   "execution_count": 9,
   "source": [
    "grid_run.best_params_"
   ],
   "outputs": [
    {
     "output_type": "execute_result",
     "data": {
      "text/plain": [
       "{'munb__alpha': 1,\n",
       " 'tfid__max_features': 1000,\n",
       " 'tfid__ngram_range': (1, 2),\n",
       " 'tfid__stop_words': 'english',\n",
       " 'tfid__use_idf': False}"
      ]
     },
     "metadata": {},
     "execution_count": 9
    }
   ],
   "metadata": {}
  },
  {
   "cell_type": "code",
   "execution_count": 10,
   "source": [
    "from sklearn.metrics import confusion_matrix"
   ],
   "outputs": [],
   "metadata": {}
  },
  {
   "cell_type": "code",
   "execution_count": 11,
   "source": [
    "predictions = grid_run.predict(x)\r\n",
    "df['predictions'] = predictions"
   ],
   "outputs": [],
   "metadata": {}
  },
  {
   "cell_type": "code",
   "execution_count": 12,
   "source": [
    "c_matrix = confusion_matrix(y, predictions)\r\n",
    "c_matrix"
   ],
   "outputs": [
    {
     "output_type": "execute_result",
     "data": {
      "text/plain": [
       "array([[945,  55],\n",
       "       [ 49, 951]], dtype=int64)"
      ]
     },
     "metadata": {},
     "execution_count": 12
    }
   ],
   "metadata": {}
  },
  {
   "cell_type": "code",
   "execution_count": 13,
   "source": [
    "import seaborn as sns\r\n",
    "tp, fp, fn, tn = confusion_matrix(y, predictions).ravel()\r\n",
    "c_matrix = [[tp,fp],[fn,tn]]\r\n",
    " \r\n",
    "#Plot the matrix\r\n",
    "sns.heatmap(c_matrix, annot=True, fmt = \"d\", cmap=\"Spectral\")"
   ],
   "outputs": [
    {
     "output_type": "execute_result",
     "data": {
      "text/plain": [
       "<AxesSubplot:>"
      ]
     },
     "metadata": {},
     "execution_count": 13
    },
    {
     "output_type": "display_data",
     "data": {
      "text/plain": [
       "<Figure size 432x288 with 2 Axes>"
      ],
      "image/png": "[encoded data removed]"
     },
     "metadata": {
      "needs_background": "light"
     }
    }
   ],
   "metadata": {}
  },
  {
   "cell_type": "code",
   "execution_count": null,
   "source": [],
   "outputs": [],
   "metadata": {}
  }
 ],
 "metadata": {
  "orig_nbformat": 4,
  "language_info": {
   "name": "python",
   "version": "3.8.8",
   "mimetype": "text/x-python",
   "codemirror_mode": {
    "name": "ipython",
    "version": 3
   },
   "pygments_lexer": "ipython3",
   "nbconvert_exporter": "python",
   "file_extension": ".py"
  },
  "kernelspec": {
   "name": "python3",
   "display_name": "Python 3.8.8 64-bit ('base': conda)"
  },
  "interpreter": {
   "hash": "ba8eff0f4464d83793294359e448dc687798df61176a979a49280af425402487"
  }
 },
 "nbformat": 4,
 "nbformat_minor": 2
}